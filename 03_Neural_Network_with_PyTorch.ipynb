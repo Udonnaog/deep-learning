{
  "nbformat": 4,
  "nbformat_minor": 0,
  "metadata": {
    "colab": {
      "provenance": [],
      "toc_visible": true
    },
    "kernelspec": {
      "name": "python3",
      "display_name": "Python 3"
    },
    "language_info": {
      "name": "python"
    }
  },
  "cells": [
    {
      "cell_type": "markdown",
      "source": [
        "### Neural Network with Pytorch\n",
        "\n",
        "Data can be almost anything\n",
        "\n",
        "1. Excel spreadsheet - Tabular data in numerical format or mixed\n",
        "2. Images of any kind\n",
        "3. Videos (Youtube has lots of Data)\n",
        "4. Audio like- songs or Podcasts\n",
        "5. Text data - News articles, Pdf Documents, Tweets, posts etc'\n",
        "6. DNA\n",
        "7. Geospatial Data (location data) etc.\n",
        "\n",
        "Machine learning/ DL is in two parts:\n",
        "1. Get the data into numerical representation\n",
        "2. Build a model to learn patterns in the Numerical Representation\n",
        "\n",
        "We will be using the Iris dataset from https://archive.ics.uci.edu/dataset/53/iris to build a simple neural network model.\n",
        "\n",
        "#### Some Definitions\n",
        "\n",
        "Neural networks (NN), or artificial neural networks (ANN), are loosely connected models with flexible structures and large parameter space.\n",
        "\n",
        "Thanks to the inspiration from the biological mechanisms of brain function, neural networks can recognize patterns in data and solve complex tasks related to language understanding and computer vision, among other things.\n",
        "\n",
        "Therefore, neural networks are composed of layers, of which we can be classified as three types:\n",
        "\n",
        "*  **Input layer:** This is where the data is directed, which the network will process.\n",
        "\n",
        "*  **Hidden layers:**These are located between the input and output layers. They are called “hidden” because their inputs and outputs are not directly visible. In these layers, the model gains the ability to recognize patterns in the data, updating its parameters (weights) during training based on the input data.\n",
        "\n",
        "*  **Output layer:** This layer returns the final result of the network’s operation. It could be, for example, recognized word categories in text or objects detected in an image.\n",
        "\n",
        "\n",
        "**Activation Functions**\n",
        "\n",
        "An activation function is a mathematical function applied to the output of a neuron in a neural network. It determines whether a neuron is activated or not, essentially deciding whether the neuron's input is important for making predictions. This transformation introduces non-linearity into the model, enabling it to learn and represent complex patterns in the data\n",
        "\n",
        "**Common Activation Functions:**\n",
        "1. Sigmoid:\n",
        "Squeezes input values into the range of 0 to 1, often used in binary classification.\n",
        "\n",
        "2. Tanh (Hyperbolic Tangent):\n",
        "Squeezes input values into the range of -1 to 1, similar to sigmoid but zero-centered.\n",
        "\n",
        "3. ReLU (Rectified Linear Unit):\n",
        "Outputs the input if it's positive and 0 otherwise, computationally efficient and effective for many tasks.\n",
        "\n",
        "4. Softmax:\n",
        "Normalizes output values to represent probabilities, commonly used in multi-class classification.\n",
        "\n",
        "5. Leaky ReLU:\n",
        "Similar to ReLU, but with a small slope for negative inputs, helping to mitigate the \"dying ReLU\" problem.\n",
        "\n",
        "**Why are activation functions important?**\n",
        "\n",
        "**Learning Complex Patterns:**\n",
        "They enable neural networks to learn and represent complex patterns in data, which would not be possible with only linear transformations.\n",
        "\n",
        "**Preventing Vanishing Gradients:**\n",
        "Some activation functions, like ReLU, can help mitigate the vanishing gradient problem, where gradients become very small during backpropagation, hindering learning.\n",
        "\n",
        "**Information Flow Control:**\n",
        "They control the flow of information through the network, allowing the network to learn what is relevant and what is not.\n"
      ],
      "metadata": {
        "id": "_5hdTOryVvCD"
      }
    },
    {
      "cell_type": "markdown",
      "source": [
        "Data Description:\n",
        "\n",
        "The Iris dataset was used in R.A. Fisher's classic 1936 paper, The Use of Multiple Measurements in Taxonomic Problems, and can also be found on the UCI Machine Learning Repository.\n",
        "\n",
        "It includes three iris species with 50 samples each as well as some properties about each flower. One flower species is linearly separable from the other two, but the other two are not linearly separable from each other.\n",
        "\n",
        "The columns in this dataset are:\n",
        "\n",
        "- Id\n",
        "- SepalLengthCm\n",
        "- SepalWidthCm\n",
        "- PetalLengthCm\n",
        "- PetalWidthCm\n",
        "- Species\n",
        "\n",
        "Steps:\n",
        "\n",
        "1. Create a neural network model\n",
        "2. Turn on the model/ Instantiate the model\n",
        "3. Load your data/ Do some data preparation\n",
        "4. Split the data\n",
        "5. Train your model\n",
        "6. Validate the model using the test data\n",
        "7. Fine tune your model\n",
        "8. Make Predictions\n",
        "9. Save your model\n"
      ],
      "metadata": {
        "id": "tU39yuyiX2ms"
      }
    },
    {
      "cell_type": "code",
      "execution_count": null,
      "metadata": {
        "id": "d2bRZWfoIskF"
      },
      "outputs": [],
      "source": [
        "### IMPORT STATEMENTS\n",
        "import torch                  # import the torch module\n",
        "import torch.nn as nn         # import the neural hetwork library in pytorch\n",
        "import torch.nn.functional as F  # this helps to move data orward in our function\n"
      ]
    },
    {
      "cell_type": "markdown",
      "source": [
        "### 1. Create the neural network model\n",
        "Using a Model Class that inherits the newtork"
      ],
      "metadata": {
        "id": "Cw_GmPRQYxug"
      }
    },
    {
      "cell_type": "code",
      "source": [
        "class Model(nn.Module):\n",
        "  # Define the Input layers (4 features for the flower) -->\n",
        "  # Hidden layer 1 with n neurons -->\n",
        "  # Hidden layer 2 with m neurons -->\n",
        "  # output with 3 classes of iris flower\n",
        "\n",
        "  #initialize the model Self\n",
        "  def __init__(self, input_features=4, h1=8, h2=9, output_features=3):\n",
        "    super().__init__()  #instantiate our nn.Module\n",
        "\n",
        "    #define the layers\n",
        "    self.fc1 = nn.Linear(input_features, h1)\n",
        "    self.fc2 = nn.Linear(h1, h2)\n",
        "    self.out = nn.Linear(h2, output_features)\n",
        "\n",
        "  #Create a forward network function: function to move everything forward\n",
        "  # Relu- if output less than 0, make it 0, if output more than 0 use the output\n",
        "  def forward(self, x):\n",
        "    x = F.relu(self.fc1(x)) #start with layer 1 and apply and activation function\n",
        "    x = F.relu(self.fc2(x)) #move to layer 2 and apply an activation function\n",
        "    x = self.out(x)         #move to output layer without an activation function\n",
        "    return x"
      ],
      "metadata": {
        "id": "rr4uij8AY527"
      },
      "execution_count": null,
      "outputs": []
    },
    {
      "cell_type": "code",
      "source": [
        "# Pick a manual seed for randomization\n",
        "torch.manual_seed(32)\n",
        "# Create an instance of our model - Turn the model ON\n",
        "model = Model()"
      ],
      "metadata": {
        "id": "a961d3IkYusc"
      },
      "execution_count": null,
      "outputs": []
    },
    {
      "cell_type": "markdown",
      "source": [
        "###2.  Load Data and Train our Model"
      ],
      "metadata": {
        "id": "Y5DYUydBgYyi"
      }
    },
    {
      "cell_type": "code",
      "source": [
        "import matplotlib.pyplot as plt\n",
        "%matplotlib inline\n",
        "import pandas as pd"
      ],
      "metadata": {
        "id": "QSOtL6CRggzv"
      },
      "execution_count": null,
      "outputs": []
    },
    {
      "cell_type": "code",
      "source": [
        "#load the data\n",
        "data = 'https://gist.github.com/netj/8836201/raw/6f9306ad21398ea43cba4f7d537619d0e07d5ae3/iris.csv'\n",
        "df = pd.read_csv(data)\n",
        "df.head()"
      ],
      "metadata": {
        "colab": {
          "base_uri": "https://localhost:8080/",
          "height": 206
        },
        "id": "m7XcMfBag8Ea",
        "outputId": "eb976922-6775-428d-dbbd-9e2a5aa1cfb5"
      },
      "execution_count": null,
      "outputs": [
        {
          "output_type": "execute_result",
          "data": {
            "text/plain": [
              "   sepal.length  sepal.width  petal.length  petal.width variety\n",
              "0           5.1          3.5           1.4          0.2  Setosa\n",
              "1           4.9          3.0           1.4          0.2  Setosa\n",
              "2           4.7          3.2           1.3          0.2  Setosa\n",
              "3           4.6          3.1           1.5          0.2  Setosa\n",
              "4           5.0          3.6           1.4          0.2  Setosa"
            ],
            "text/html": [
              "\n",
              "  <div id=\"df-ed35215b-327c-4107-a2be-2c48d7037a71\" class=\"colab-df-container\">\n",
              "    <div>\n",
              "<style scoped>\n",
              "    .dataframe tbody tr th:only-of-type {\n",
              "        vertical-align: middle;\n",
              "    }\n",
              "\n",
              "    .dataframe tbody tr th {\n",
              "        vertical-align: top;\n",
              "    }\n",
              "\n",
              "    .dataframe thead th {\n",
              "        text-align: right;\n",
              "    }\n",
              "</style>\n",
              "<table border=\"1\" class=\"dataframe\">\n",
              "  <thead>\n",
              "    <tr style=\"text-align: right;\">\n",
              "      <th></th>\n",
              "      <th>sepal.length</th>\n",
              "      <th>sepal.width</th>\n",
              "      <th>petal.length</th>\n",
              "      <th>petal.width</th>\n",
              "      <th>variety</th>\n",
              "    </tr>\n",
              "  </thead>\n",
              "  <tbody>\n",
              "    <tr>\n",
              "      <th>0</th>\n",
              "      <td>5.1</td>\n",
              "      <td>3.5</td>\n",
              "      <td>1.4</td>\n",
              "      <td>0.2</td>\n",
              "      <td>Setosa</td>\n",
              "    </tr>\n",
              "    <tr>\n",
              "      <th>1</th>\n",
              "      <td>4.9</td>\n",
              "      <td>3.0</td>\n",
              "      <td>1.4</td>\n",
              "      <td>0.2</td>\n",
              "      <td>Setosa</td>\n",
              "    </tr>\n",
              "    <tr>\n",
              "      <th>2</th>\n",
              "      <td>4.7</td>\n",
              "      <td>3.2</td>\n",
              "      <td>1.3</td>\n",
              "      <td>0.2</td>\n",
              "      <td>Setosa</td>\n",
              "    </tr>\n",
              "    <tr>\n",
              "      <th>3</th>\n",
              "      <td>4.6</td>\n",
              "      <td>3.1</td>\n",
              "      <td>1.5</td>\n",
              "      <td>0.2</td>\n",
              "      <td>Setosa</td>\n",
              "    </tr>\n",
              "    <tr>\n",
              "      <th>4</th>\n",
              "      <td>5.0</td>\n",
              "      <td>3.6</td>\n",
              "      <td>1.4</td>\n",
              "      <td>0.2</td>\n",
              "      <td>Setosa</td>\n",
              "    </tr>\n",
              "  </tbody>\n",
              "</table>\n",
              "</div>\n",
              "    <div class=\"colab-df-buttons\">\n",
              "\n",
              "  <div class=\"colab-df-container\">\n",
              "    <button class=\"colab-df-convert\" onclick=\"convertToInteractive('df-ed35215b-327c-4107-a2be-2c48d7037a71')\"\n",
              "            title=\"Convert this dataframe to an interactive table.\"\n",
              "            style=\"display:none;\">\n",
              "\n",
              "  <svg xmlns=\"http://www.w3.org/2000/svg\" height=\"24px\" viewBox=\"0 -960 960 960\">\n",
              "    <path d=\"M120-120v-720h720v720H120Zm60-500h600v-160H180v160Zm220 220h160v-160H400v160Zm0 220h160v-160H400v160ZM180-400h160v-160H180v160Zm440 0h160v-160H620v160ZM180-180h160v-160H180v160Zm440 0h160v-160H620v160Z\"/>\n",
              "  </svg>\n",
              "    </button>\n",
              "\n",
              "  <style>\n",
              "    .colab-df-container {\n",
              "      display:flex;\n",
              "      gap: 12px;\n",
              "    }\n",
              "\n",
              "    .colab-df-convert {\n",
              "      background-color: #E8F0FE;\n",
              "      border: none;\n",
              "      border-radius: 50%;\n",
              "      cursor: pointer;\n",
              "      display: none;\n",
              "      fill: #1967D2;\n",
              "      height: 32px;\n",
              "      padding: 0 0 0 0;\n",
              "      width: 32px;\n",
              "    }\n",
              "\n",
              "    .colab-df-convert:hover {\n",
              "      background-color: #E2EBFA;\n",
              "      box-shadow: 0px 1px 2px rgba(60, 64, 67, 0.3), 0px 1px 3px 1px rgba(60, 64, 67, 0.15);\n",
              "      fill: #174EA6;\n",
              "    }\n",
              "\n",
              "    .colab-df-buttons div {\n",
              "      margin-bottom: 4px;\n",
              "    }\n",
              "\n",
              "    [theme=dark] .colab-df-convert {\n",
              "      background-color: #3B4455;\n",
              "      fill: #D2E3FC;\n",
              "    }\n",
              "\n",
              "    [theme=dark] .colab-df-convert:hover {\n",
              "      background-color: #434B5C;\n",
              "      box-shadow: 0px 1px 3px 1px rgba(0, 0, 0, 0.15);\n",
              "      filter: drop-shadow(0px 1px 2px rgba(0, 0, 0, 0.3));\n",
              "      fill: #FFFFFF;\n",
              "    }\n",
              "  </style>\n",
              "\n",
              "    <script>\n",
              "      const buttonEl =\n",
              "        document.querySelector('#df-ed35215b-327c-4107-a2be-2c48d7037a71 button.colab-df-convert');\n",
              "      buttonEl.style.display =\n",
              "        google.colab.kernel.accessAllowed ? 'block' : 'none';\n",
              "\n",
              "      async function convertToInteractive(key) {\n",
              "        const element = document.querySelector('#df-ed35215b-327c-4107-a2be-2c48d7037a71');\n",
              "        const dataTable =\n",
              "          await google.colab.kernel.invokeFunction('convertToInteractive',\n",
              "                                                    [key], {});\n",
              "        if (!dataTable) return;\n",
              "\n",
              "        const docLinkHtml = 'Like what you see? Visit the ' +\n",
              "          '<a target=\"_blank\" href=https://colab.research.google.com/notebooks/data_table.ipynb>data table notebook</a>'\n",
              "          + ' to learn more about interactive tables.';\n",
              "        element.innerHTML = '';\n",
              "        dataTable['output_type'] = 'display_data';\n",
              "        await google.colab.output.renderOutput(dataTable, element);\n",
              "        const docLink = document.createElement('div');\n",
              "        docLink.innerHTML = docLinkHtml;\n",
              "        element.appendChild(docLink);\n",
              "      }\n",
              "    </script>\n",
              "  </div>\n",
              "\n",
              "\n",
              "    <div id=\"df-ea20dcbb-56da-4b36-9ad1-db59e399af3c\">\n",
              "      <button class=\"colab-df-quickchart\" onclick=\"quickchart('df-ea20dcbb-56da-4b36-9ad1-db59e399af3c')\"\n",
              "                title=\"Suggest charts\"\n",
              "                style=\"display:none;\">\n",
              "\n",
              "<svg xmlns=\"http://www.w3.org/2000/svg\" height=\"24px\"viewBox=\"0 0 24 24\"\n",
              "     width=\"24px\">\n",
              "    <g>\n",
              "        <path d=\"M19 3H5c-1.1 0-2 .9-2 2v14c0 1.1.9 2 2 2h14c1.1 0 2-.9 2-2V5c0-1.1-.9-2-2-2zM9 17H7v-7h2v7zm4 0h-2V7h2v10zm4 0h-2v-4h2v4z\"/>\n",
              "    </g>\n",
              "</svg>\n",
              "      </button>\n",
              "\n",
              "<style>\n",
              "  .colab-df-quickchart {\n",
              "      --bg-color: #E8F0FE;\n",
              "      --fill-color: #1967D2;\n",
              "      --hover-bg-color: #E2EBFA;\n",
              "      --hover-fill-color: #174EA6;\n",
              "      --disabled-fill-color: #AAA;\n",
              "      --disabled-bg-color: #DDD;\n",
              "  }\n",
              "\n",
              "  [theme=dark] .colab-df-quickchart {\n",
              "      --bg-color: #3B4455;\n",
              "      --fill-color: #D2E3FC;\n",
              "      --hover-bg-color: #434B5C;\n",
              "      --hover-fill-color: #FFFFFF;\n",
              "      --disabled-bg-color: #3B4455;\n",
              "      --disabled-fill-color: #666;\n",
              "  }\n",
              "\n",
              "  .colab-df-quickchart {\n",
              "    background-color: var(--bg-color);\n",
              "    border: none;\n",
              "    border-radius: 50%;\n",
              "    cursor: pointer;\n",
              "    display: none;\n",
              "    fill: var(--fill-color);\n",
              "    height: 32px;\n",
              "    padding: 0;\n",
              "    width: 32px;\n",
              "  }\n",
              "\n",
              "  .colab-df-quickchart:hover {\n",
              "    background-color: var(--hover-bg-color);\n",
              "    box-shadow: 0 1px 2px rgba(60, 64, 67, 0.3), 0 1px 3px 1px rgba(60, 64, 67, 0.15);\n",
              "    fill: var(--button-hover-fill-color);\n",
              "  }\n",
              "\n",
              "  .colab-df-quickchart-complete:disabled,\n",
              "  .colab-df-quickchart-complete:disabled:hover {\n",
              "    background-color: var(--disabled-bg-color);\n",
              "    fill: var(--disabled-fill-color);\n",
              "    box-shadow: none;\n",
              "  }\n",
              "\n",
              "  .colab-df-spinner {\n",
              "    border: 2px solid var(--fill-color);\n",
              "    border-color: transparent;\n",
              "    border-bottom-color: var(--fill-color);\n",
              "    animation:\n",
              "      spin 1s steps(1) infinite;\n",
              "  }\n",
              "\n",
              "  @keyframes spin {\n",
              "    0% {\n",
              "      border-color: transparent;\n",
              "      border-bottom-color: var(--fill-color);\n",
              "      border-left-color: var(--fill-color);\n",
              "    }\n",
              "    20% {\n",
              "      border-color: transparent;\n",
              "      border-left-color: var(--fill-color);\n",
              "      border-top-color: var(--fill-color);\n",
              "    }\n",
              "    30% {\n",
              "      border-color: transparent;\n",
              "      border-left-color: var(--fill-color);\n",
              "      border-top-color: var(--fill-color);\n",
              "      border-right-color: var(--fill-color);\n",
              "    }\n",
              "    40% {\n",
              "      border-color: transparent;\n",
              "      border-right-color: var(--fill-color);\n",
              "      border-top-color: var(--fill-color);\n",
              "    }\n",
              "    60% {\n",
              "      border-color: transparent;\n",
              "      border-right-color: var(--fill-color);\n",
              "    }\n",
              "    80% {\n",
              "      border-color: transparent;\n",
              "      border-right-color: var(--fill-color);\n",
              "      border-bottom-color: var(--fill-color);\n",
              "    }\n",
              "    90% {\n",
              "      border-color: transparent;\n",
              "      border-bottom-color: var(--fill-color);\n",
              "    }\n",
              "  }\n",
              "</style>\n",
              "\n",
              "      <script>\n",
              "        async function quickchart(key) {\n",
              "          const quickchartButtonEl =\n",
              "            document.querySelector('#' + key + ' button');\n",
              "          quickchartButtonEl.disabled = true;  // To prevent multiple clicks.\n",
              "          quickchartButtonEl.classList.add('colab-df-spinner');\n",
              "          try {\n",
              "            const charts = await google.colab.kernel.invokeFunction(\n",
              "                'suggestCharts', [key], {});\n",
              "          } catch (error) {\n",
              "            console.error('Error during call to suggestCharts:', error);\n",
              "          }\n",
              "          quickchartButtonEl.classList.remove('colab-df-spinner');\n",
              "          quickchartButtonEl.classList.add('colab-df-quickchart-complete');\n",
              "        }\n",
              "        (() => {\n",
              "          let quickchartButtonEl =\n",
              "            document.querySelector('#df-ea20dcbb-56da-4b36-9ad1-db59e399af3c button');\n",
              "          quickchartButtonEl.style.display =\n",
              "            google.colab.kernel.accessAllowed ? 'block' : 'none';\n",
              "        })();\n",
              "      </script>\n",
              "    </div>\n",
              "\n",
              "    </div>\n",
              "  </div>\n"
            ],
            "application/vnd.google.colaboratory.intrinsic+json": {
              "type": "dataframe",
              "variable_name": "df",
              "summary": "{\n  \"name\": \"df\",\n  \"rows\": 150,\n  \"fields\": [\n    {\n      \"column\": \"sepal.length\",\n      \"properties\": {\n        \"dtype\": \"number\",\n        \"std\": 0.8280661279778629,\n        \"min\": 4.3,\n        \"max\": 7.9,\n        \"num_unique_values\": 35,\n        \"samples\": [\n          6.2,\n          4.5,\n          5.6\n        ],\n        \"semantic_type\": \"\",\n        \"description\": \"\"\n      }\n    },\n    {\n      \"column\": \"sepal.width\",\n      \"properties\": {\n        \"dtype\": \"number\",\n        \"std\": 0.435866284936698,\n        \"min\": 2.0,\n        \"max\": 4.4,\n        \"num_unique_values\": 23,\n        \"samples\": [\n          2.3,\n          4.0,\n          3.5\n        ],\n        \"semantic_type\": \"\",\n        \"description\": \"\"\n      }\n    },\n    {\n      \"column\": \"petal.length\",\n      \"properties\": {\n        \"dtype\": \"number\",\n        \"std\": 1.7652982332594667,\n        \"min\": 1.0,\n        \"max\": 6.9,\n        \"num_unique_values\": 43,\n        \"samples\": [\n          6.7,\n          3.8,\n          3.7\n        ],\n        \"semantic_type\": \"\",\n        \"description\": \"\"\n      }\n    },\n    {\n      \"column\": \"petal.width\",\n      \"properties\": {\n        \"dtype\": \"number\",\n        \"std\": 0.7622376689603465,\n        \"min\": 0.1,\n        \"max\": 2.5,\n        \"num_unique_values\": 22,\n        \"samples\": [\n          0.2,\n          1.2,\n          1.3\n        ],\n        \"semantic_type\": \"\",\n        \"description\": \"\"\n      }\n    },\n    {\n      \"column\": \"variety\",\n      \"properties\": {\n        \"dtype\": \"category\",\n        \"num_unique_values\": 3,\n        \"samples\": [\n          \"Setosa\",\n          \"Versicolor\",\n          \"Virginica\"\n        ],\n        \"semantic_type\": \"\",\n        \"description\": \"\"\n      }\n    }\n  ]\n}"
            }
          },
          "metadata": {},
          "execution_count": 94
        }
      ]
    },
    {
      "cell_type": "code",
      "source": [
        "#Data manipulation\n",
        "#change last column to integers\n",
        "df['variety'] = df['variety'].map({'Setosa': 0.0, 'Versicolor': 1.0, 'Virginica': 2.0})\n",
        "df.head()"
      ],
      "metadata": {
        "colab": {
          "base_uri": "https://localhost:8080/",
          "height": 206
        },
        "id": "fCbvjur7hnGJ",
        "outputId": "8b0ed76f-e8ee-4a5b-dc16-ed94ef00bc69"
      },
      "execution_count": null,
      "outputs": [
        {
          "output_type": "execute_result",
          "data": {
            "text/plain": [
              "   sepal.length  sepal.width  petal.length  petal.width  variety\n",
              "0           5.1          3.5           1.4          0.2      0.0\n",
              "1           4.9          3.0           1.4          0.2      0.0\n",
              "2           4.7          3.2           1.3          0.2      0.0\n",
              "3           4.6          3.1           1.5          0.2      0.0\n",
              "4           5.0          3.6           1.4          0.2      0.0"
            ],
            "text/html": [
              "\n",
              "  <div id=\"df-d467ef50-649a-4775-b11e-5143770da4b1\" class=\"colab-df-container\">\n",
              "    <div>\n",
              "<style scoped>\n",
              "    .dataframe tbody tr th:only-of-type {\n",
              "        vertical-align: middle;\n",
              "    }\n",
              "\n",
              "    .dataframe tbody tr th {\n",
              "        vertical-align: top;\n",
              "    }\n",
              "\n",
              "    .dataframe thead th {\n",
              "        text-align: right;\n",
              "    }\n",
              "</style>\n",
              "<table border=\"1\" class=\"dataframe\">\n",
              "  <thead>\n",
              "    <tr style=\"text-align: right;\">\n",
              "      <th></th>\n",
              "      <th>sepal.length</th>\n",
              "      <th>sepal.width</th>\n",
              "      <th>petal.length</th>\n",
              "      <th>petal.width</th>\n",
              "      <th>variety</th>\n",
              "    </tr>\n",
              "  </thead>\n",
              "  <tbody>\n",
              "    <tr>\n",
              "      <th>0</th>\n",
              "      <td>5.1</td>\n",
              "      <td>3.5</td>\n",
              "      <td>1.4</td>\n",
              "      <td>0.2</td>\n",
              "      <td>0.0</td>\n",
              "    </tr>\n",
              "    <tr>\n",
              "      <th>1</th>\n",
              "      <td>4.9</td>\n",
              "      <td>3.0</td>\n",
              "      <td>1.4</td>\n",
              "      <td>0.2</td>\n",
              "      <td>0.0</td>\n",
              "    </tr>\n",
              "    <tr>\n",
              "      <th>2</th>\n",
              "      <td>4.7</td>\n",
              "      <td>3.2</td>\n",
              "      <td>1.3</td>\n",
              "      <td>0.2</td>\n",
              "      <td>0.0</td>\n",
              "    </tr>\n",
              "    <tr>\n",
              "      <th>3</th>\n",
              "      <td>4.6</td>\n",
              "      <td>3.1</td>\n",
              "      <td>1.5</td>\n",
              "      <td>0.2</td>\n",
              "      <td>0.0</td>\n",
              "    </tr>\n",
              "    <tr>\n",
              "      <th>4</th>\n",
              "      <td>5.0</td>\n",
              "      <td>3.6</td>\n",
              "      <td>1.4</td>\n",
              "      <td>0.2</td>\n",
              "      <td>0.0</td>\n",
              "    </tr>\n",
              "  </tbody>\n",
              "</table>\n",
              "</div>\n",
              "    <div class=\"colab-df-buttons\">\n",
              "\n",
              "  <div class=\"colab-df-container\">\n",
              "    <button class=\"colab-df-convert\" onclick=\"convertToInteractive('df-d467ef50-649a-4775-b11e-5143770da4b1')\"\n",
              "            title=\"Convert this dataframe to an interactive table.\"\n",
              "            style=\"display:none;\">\n",
              "\n",
              "  <svg xmlns=\"http://www.w3.org/2000/svg\" height=\"24px\" viewBox=\"0 -960 960 960\">\n",
              "    <path d=\"M120-120v-720h720v720H120Zm60-500h600v-160H180v160Zm220 220h160v-160H400v160Zm0 220h160v-160H400v160ZM180-400h160v-160H180v160Zm440 0h160v-160H620v160ZM180-180h160v-160H180v160Zm440 0h160v-160H620v160Z\"/>\n",
              "  </svg>\n",
              "    </button>\n",
              "\n",
              "  <style>\n",
              "    .colab-df-container {\n",
              "      display:flex;\n",
              "      gap: 12px;\n",
              "    }\n",
              "\n",
              "    .colab-df-convert {\n",
              "      background-color: #E8F0FE;\n",
              "      border: none;\n",
              "      border-radius: 50%;\n",
              "      cursor: pointer;\n",
              "      display: none;\n",
              "      fill: #1967D2;\n",
              "      height: 32px;\n",
              "      padding: 0 0 0 0;\n",
              "      width: 32px;\n",
              "    }\n",
              "\n",
              "    .colab-df-convert:hover {\n",
              "      background-color: #E2EBFA;\n",
              "      box-shadow: 0px 1px 2px rgba(60, 64, 67, 0.3), 0px 1px 3px 1px rgba(60, 64, 67, 0.15);\n",
              "      fill: #174EA6;\n",
              "    }\n",
              "\n",
              "    .colab-df-buttons div {\n",
              "      margin-bottom: 4px;\n",
              "    }\n",
              "\n",
              "    [theme=dark] .colab-df-convert {\n",
              "      background-color: #3B4455;\n",
              "      fill: #D2E3FC;\n",
              "    }\n",
              "\n",
              "    [theme=dark] .colab-df-convert:hover {\n",
              "      background-color: #434B5C;\n",
              "      box-shadow: 0px 1px 3px 1px rgba(0, 0, 0, 0.15);\n",
              "      filter: drop-shadow(0px 1px 2px rgba(0, 0, 0, 0.3));\n",
              "      fill: #FFFFFF;\n",
              "    }\n",
              "  </style>\n",
              "\n",
              "    <script>\n",
              "      const buttonEl =\n",
              "        document.querySelector('#df-d467ef50-649a-4775-b11e-5143770da4b1 button.colab-df-convert');\n",
              "      buttonEl.style.display =\n",
              "        google.colab.kernel.accessAllowed ? 'block' : 'none';\n",
              "\n",
              "      async function convertToInteractive(key) {\n",
              "        const element = document.querySelector('#df-d467ef50-649a-4775-b11e-5143770da4b1');\n",
              "        const dataTable =\n",
              "          await google.colab.kernel.invokeFunction('convertToInteractive',\n",
              "                                                    [key], {});\n",
              "        if (!dataTable) return;\n",
              "\n",
              "        const docLinkHtml = 'Like what you see? Visit the ' +\n",
              "          '<a target=\"_blank\" href=https://colab.research.google.com/notebooks/data_table.ipynb>data table notebook</a>'\n",
              "          + ' to learn more about interactive tables.';\n",
              "        element.innerHTML = '';\n",
              "        dataTable['output_type'] = 'display_data';\n",
              "        await google.colab.output.renderOutput(dataTable, element);\n",
              "        const docLink = document.createElement('div');\n",
              "        docLink.innerHTML = docLinkHtml;\n",
              "        element.appendChild(docLink);\n",
              "      }\n",
              "    </script>\n",
              "  </div>\n",
              "\n",
              "\n",
              "    <div id=\"df-b6ab6b25-084c-4d6d-898e-6cb4c906f49c\">\n",
              "      <button class=\"colab-df-quickchart\" onclick=\"quickchart('df-b6ab6b25-084c-4d6d-898e-6cb4c906f49c')\"\n",
              "                title=\"Suggest charts\"\n",
              "                style=\"display:none;\">\n",
              "\n",
              "<svg xmlns=\"http://www.w3.org/2000/svg\" height=\"24px\"viewBox=\"0 0 24 24\"\n",
              "     width=\"24px\">\n",
              "    <g>\n",
              "        <path d=\"M19 3H5c-1.1 0-2 .9-2 2v14c0 1.1.9 2 2 2h14c1.1 0 2-.9 2-2V5c0-1.1-.9-2-2-2zM9 17H7v-7h2v7zm4 0h-2V7h2v10zm4 0h-2v-4h2v4z\"/>\n",
              "    </g>\n",
              "</svg>\n",
              "      </button>\n",
              "\n",
              "<style>\n",
              "  .colab-df-quickchart {\n",
              "      --bg-color: #E8F0FE;\n",
              "      --fill-color: #1967D2;\n",
              "      --hover-bg-color: #E2EBFA;\n",
              "      --hover-fill-color: #174EA6;\n",
              "      --disabled-fill-color: #AAA;\n",
              "      --disabled-bg-color: #DDD;\n",
              "  }\n",
              "\n",
              "  [theme=dark] .colab-df-quickchart {\n",
              "      --bg-color: #3B4455;\n",
              "      --fill-color: #D2E3FC;\n",
              "      --hover-bg-color: #434B5C;\n",
              "      --hover-fill-color: #FFFFFF;\n",
              "      --disabled-bg-color: #3B4455;\n",
              "      --disabled-fill-color: #666;\n",
              "  }\n",
              "\n",
              "  .colab-df-quickchart {\n",
              "    background-color: var(--bg-color);\n",
              "    border: none;\n",
              "    border-radius: 50%;\n",
              "    cursor: pointer;\n",
              "    display: none;\n",
              "    fill: var(--fill-color);\n",
              "    height: 32px;\n",
              "    padding: 0;\n",
              "    width: 32px;\n",
              "  }\n",
              "\n",
              "  .colab-df-quickchart:hover {\n",
              "    background-color: var(--hover-bg-color);\n",
              "    box-shadow: 0 1px 2px rgba(60, 64, 67, 0.3), 0 1px 3px 1px rgba(60, 64, 67, 0.15);\n",
              "    fill: var(--button-hover-fill-color);\n",
              "  }\n",
              "\n",
              "  .colab-df-quickchart-complete:disabled,\n",
              "  .colab-df-quickchart-complete:disabled:hover {\n",
              "    background-color: var(--disabled-bg-color);\n",
              "    fill: var(--disabled-fill-color);\n",
              "    box-shadow: none;\n",
              "  }\n",
              "\n",
              "  .colab-df-spinner {\n",
              "    border: 2px solid var(--fill-color);\n",
              "    border-color: transparent;\n",
              "    border-bottom-color: var(--fill-color);\n",
              "    animation:\n",
              "      spin 1s steps(1) infinite;\n",
              "  }\n",
              "\n",
              "  @keyframes spin {\n",
              "    0% {\n",
              "      border-color: transparent;\n",
              "      border-bottom-color: var(--fill-color);\n",
              "      border-left-color: var(--fill-color);\n",
              "    }\n",
              "    20% {\n",
              "      border-color: transparent;\n",
              "      border-left-color: var(--fill-color);\n",
              "      border-top-color: var(--fill-color);\n",
              "    }\n",
              "    30% {\n",
              "      border-color: transparent;\n",
              "      border-left-color: var(--fill-color);\n",
              "      border-top-color: var(--fill-color);\n",
              "      border-right-color: var(--fill-color);\n",
              "    }\n",
              "    40% {\n",
              "      border-color: transparent;\n",
              "      border-right-color: var(--fill-color);\n",
              "      border-top-color: var(--fill-color);\n",
              "    }\n",
              "    60% {\n",
              "      border-color: transparent;\n",
              "      border-right-color: var(--fill-color);\n",
              "    }\n",
              "    80% {\n",
              "      border-color: transparent;\n",
              "      border-right-color: var(--fill-color);\n",
              "      border-bottom-color: var(--fill-color);\n",
              "    }\n",
              "    90% {\n",
              "      border-color: transparent;\n",
              "      border-bottom-color: var(--fill-color);\n",
              "    }\n",
              "  }\n",
              "</style>\n",
              "\n",
              "      <script>\n",
              "        async function quickchart(key) {\n",
              "          const quickchartButtonEl =\n",
              "            document.querySelector('#' + key + ' button');\n",
              "          quickchartButtonEl.disabled = true;  // To prevent multiple clicks.\n",
              "          quickchartButtonEl.classList.add('colab-df-spinner');\n",
              "          try {\n",
              "            const charts = await google.colab.kernel.invokeFunction(\n",
              "                'suggestCharts', [key], {});\n",
              "          } catch (error) {\n",
              "            console.error('Error during call to suggestCharts:', error);\n",
              "          }\n",
              "          quickchartButtonEl.classList.remove('colab-df-spinner');\n",
              "          quickchartButtonEl.classList.add('colab-df-quickchart-complete');\n",
              "        }\n",
              "        (() => {\n",
              "          let quickchartButtonEl =\n",
              "            document.querySelector('#df-b6ab6b25-084c-4d6d-898e-6cb4c906f49c button');\n",
              "          quickchartButtonEl.style.display =\n",
              "            google.colab.kernel.accessAllowed ? 'block' : 'none';\n",
              "        })();\n",
              "      </script>\n",
              "    </div>\n",
              "\n",
              "    </div>\n",
              "  </div>\n"
            ],
            "application/vnd.google.colaboratory.intrinsic+json": {
              "type": "dataframe",
              "variable_name": "df",
              "summary": "{\n  \"name\": \"df\",\n  \"rows\": 150,\n  \"fields\": [\n    {\n      \"column\": \"sepal.length\",\n      \"properties\": {\n        \"dtype\": \"number\",\n        \"std\": 0.8280661279778629,\n        \"min\": 4.3,\n        \"max\": 7.9,\n        \"num_unique_values\": 35,\n        \"samples\": [\n          6.2,\n          4.5,\n          5.6\n        ],\n        \"semantic_type\": \"\",\n        \"description\": \"\"\n      }\n    },\n    {\n      \"column\": \"sepal.width\",\n      \"properties\": {\n        \"dtype\": \"number\",\n        \"std\": 0.435866284936698,\n        \"min\": 2.0,\n        \"max\": 4.4,\n        \"num_unique_values\": 23,\n        \"samples\": [\n          2.3,\n          4.0,\n          3.5\n        ],\n        \"semantic_type\": \"\",\n        \"description\": \"\"\n      }\n    },\n    {\n      \"column\": \"petal.length\",\n      \"properties\": {\n        \"dtype\": \"number\",\n        \"std\": 1.7652982332594667,\n        \"min\": 1.0,\n        \"max\": 6.9,\n        \"num_unique_values\": 43,\n        \"samples\": [\n          6.7,\n          3.8,\n          3.7\n        ],\n        \"semantic_type\": \"\",\n        \"description\": \"\"\n      }\n    },\n    {\n      \"column\": \"petal.width\",\n      \"properties\": {\n        \"dtype\": \"number\",\n        \"std\": 0.7622376689603465,\n        \"min\": 0.1,\n        \"max\": 2.5,\n        \"num_unique_values\": 22,\n        \"samples\": [\n          0.2,\n          1.2,\n          1.3\n        ],\n        \"semantic_type\": \"\",\n        \"description\": \"\"\n      }\n    },\n    {\n      \"column\": \"variety\",\n      \"properties\": {\n        \"dtype\": \"number\",\n        \"std\": 0.8192319205190405,\n        \"min\": 0.0,\n        \"max\": 2.0,\n        \"num_unique_values\": 3,\n        \"samples\": [\n          0.0,\n          1.0,\n          2.0\n        ],\n        \"semantic_type\": \"\",\n        \"description\": \"\"\n      }\n    }\n  ]\n}"
            }
          },
          "metadata": {},
          "execution_count": 95
        }
      ]
    },
    {
      "cell_type": "code",
      "source": [
        "# df.head()"
      ],
      "metadata": {
        "id": "7Y19JXC8j4UT"
      },
      "execution_count": null,
      "outputs": []
    },
    {
      "cell_type": "markdown",
      "source": [
        "#### Split the data"
      ],
      "metadata": {
        "id": "hTVHxQMDjERn"
      }
    },
    {
      "cell_type": "code",
      "source": [
        "# Define the features and label\n",
        "x = df.drop('variety', axis =1)\n",
        "y = df['variety']\n"
      ],
      "metadata": {
        "id": "GHqWY4aAi1-r"
      },
      "execution_count": null,
      "outputs": []
    },
    {
      "cell_type": "code",
      "source": [
        "#convert these to numpy arrays\n",
        "x= x.values\n",
        "y= y.values\n",
        "x"
      ],
      "metadata": {
        "colab": {
          "base_uri": "https://localhost:8080/"
        },
        "id": "qLFQGpx5jRQi",
        "outputId": "e1f1c7ca-c923-4cfa-b6b2-858cbeac2f1a"
      },
      "execution_count": null,
      "outputs": [
        {
          "output_type": "execute_result",
          "data": {
            "text/plain": [
              "array([[5.1, 3.5, 1.4, 0.2],\n",
              "       [4.9, 3. , 1.4, 0.2],\n",
              "       [4.7, 3.2, 1.3, 0.2],\n",
              "       [4.6, 3.1, 1.5, 0.2],\n",
              "       [5. , 3.6, 1.4, 0.2],\n",
              "       [5.4, 3.9, 1.7, 0.4],\n",
              "       [4.6, 3.4, 1.4, 0.3],\n",
              "       [5. , 3.4, 1.5, 0.2],\n",
              "       [4.4, 2.9, 1.4, 0.2],\n",
              "       [4.9, 3.1, 1.5, 0.1],\n",
              "       [5.4, 3.7, 1.5, 0.2],\n",
              "       [4.8, 3.4, 1.6, 0.2],\n",
              "       [4.8, 3. , 1.4, 0.1],\n",
              "       [4.3, 3. , 1.1, 0.1],\n",
              "       [5.8, 4. , 1.2, 0.2],\n",
              "       [5.7, 4.4, 1.5, 0.4],\n",
              "       [5.4, 3.9, 1.3, 0.4],\n",
              "       [5.1, 3.5, 1.4, 0.3],\n",
              "       [5.7, 3.8, 1.7, 0.3],\n",
              "       [5.1, 3.8, 1.5, 0.3],\n",
              "       [5.4, 3.4, 1.7, 0.2],\n",
              "       [5.1, 3.7, 1.5, 0.4],\n",
              "       [4.6, 3.6, 1. , 0.2],\n",
              "       [5.1, 3.3, 1.7, 0.5],\n",
              "       [4.8, 3.4, 1.9, 0.2],\n",
              "       [5. , 3. , 1.6, 0.2],\n",
              "       [5. , 3.4, 1.6, 0.4],\n",
              "       [5.2, 3.5, 1.5, 0.2],\n",
              "       [5.2, 3.4, 1.4, 0.2],\n",
              "       [4.7, 3.2, 1.6, 0.2],\n",
              "       [4.8, 3.1, 1.6, 0.2],\n",
              "       [5.4, 3.4, 1.5, 0.4],\n",
              "       [5.2, 4.1, 1.5, 0.1],\n",
              "       [5.5, 4.2, 1.4, 0.2],\n",
              "       [4.9, 3.1, 1.5, 0.2],\n",
              "       [5. , 3.2, 1.2, 0.2],\n",
              "       [5.5, 3.5, 1.3, 0.2],\n",
              "       [4.9, 3.6, 1.4, 0.1],\n",
              "       [4.4, 3. , 1.3, 0.2],\n",
              "       [5.1, 3.4, 1.5, 0.2],\n",
              "       [5. , 3.5, 1.3, 0.3],\n",
              "       [4.5, 2.3, 1.3, 0.3],\n",
              "       [4.4, 3.2, 1.3, 0.2],\n",
              "       [5. , 3.5, 1.6, 0.6],\n",
              "       [5.1, 3.8, 1.9, 0.4],\n",
              "       [4.8, 3. , 1.4, 0.3],\n",
              "       [5.1, 3.8, 1.6, 0.2],\n",
              "       [4.6, 3.2, 1.4, 0.2],\n",
              "       [5.3, 3.7, 1.5, 0.2],\n",
              "       [5. , 3.3, 1.4, 0.2],\n",
              "       [7. , 3.2, 4.7, 1.4],\n",
              "       [6.4, 3.2, 4.5, 1.5],\n",
              "       [6.9, 3.1, 4.9, 1.5],\n",
              "       [5.5, 2.3, 4. , 1.3],\n",
              "       [6.5, 2.8, 4.6, 1.5],\n",
              "       [5.7, 2.8, 4.5, 1.3],\n",
              "       [6.3, 3.3, 4.7, 1.6],\n",
              "       [4.9, 2.4, 3.3, 1. ],\n",
              "       [6.6, 2.9, 4.6, 1.3],\n",
              "       [5.2, 2.7, 3.9, 1.4],\n",
              "       [5. , 2. , 3.5, 1. ],\n",
              "       [5.9, 3. , 4.2, 1.5],\n",
              "       [6. , 2.2, 4. , 1. ],\n",
              "       [6.1, 2.9, 4.7, 1.4],\n",
              "       [5.6, 2.9, 3.6, 1.3],\n",
              "       [6.7, 3.1, 4.4, 1.4],\n",
              "       [5.6, 3. , 4.5, 1.5],\n",
              "       [5.8, 2.7, 4.1, 1. ],\n",
              "       [6.2, 2.2, 4.5, 1.5],\n",
              "       [5.6, 2.5, 3.9, 1.1],\n",
              "       [5.9, 3.2, 4.8, 1.8],\n",
              "       [6.1, 2.8, 4. , 1.3],\n",
              "       [6.3, 2.5, 4.9, 1.5],\n",
              "       [6.1, 2.8, 4.7, 1.2],\n",
              "       [6.4, 2.9, 4.3, 1.3],\n",
              "       [6.6, 3. , 4.4, 1.4],\n",
              "       [6.8, 2.8, 4.8, 1.4],\n",
              "       [6.7, 3. , 5. , 1.7],\n",
              "       [6. , 2.9, 4.5, 1.5],\n",
              "       [5.7, 2.6, 3.5, 1. ],\n",
              "       [5.5, 2.4, 3.8, 1.1],\n",
              "       [5.5, 2.4, 3.7, 1. ],\n",
              "       [5.8, 2.7, 3.9, 1.2],\n",
              "       [6. , 2.7, 5.1, 1.6],\n",
              "       [5.4, 3. , 4.5, 1.5],\n",
              "       [6. , 3.4, 4.5, 1.6],\n",
              "       [6.7, 3.1, 4.7, 1.5],\n",
              "       [6.3, 2.3, 4.4, 1.3],\n",
              "       [5.6, 3. , 4.1, 1.3],\n",
              "       [5.5, 2.5, 4. , 1.3],\n",
              "       [5.5, 2.6, 4.4, 1.2],\n",
              "       [6.1, 3. , 4.6, 1.4],\n",
              "       [5.8, 2.6, 4. , 1.2],\n",
              "       [5. , 2.3, 3.3, 1. ],\n",
              "       [5.6, 2.7, 4.2, 1.3],\n",
              "       [5.7, 3. , 4.2, 1.2],\n",
              "       [5.7, 2.9, 4.2, 1.3],\n",
              "       [6.2, 2.9, 4.3, 1.3],\n",
              "       [5.1, 2.5, 3. , 1.1],\n",
              "       [5.7, 2.8, 4.1, 1.3],\n",
              "       [6.3, 3.3, 6. , 2.5],\n",
              "       [5.8, 2.7, 5.1, 1.9],\n",
              "       [7.1, 3. , 5.9, 2.1],\n",
              "       [6.3, 2.9, 5.6, 1.8],\n",
              "       [6.5, 3. , 5.8, 2.2],\n",
              "       [7.6, 3. , 6.6, 2.1],\n",
              "       [4.9, 2.5, 4.5, 1.7],\n",
              "       [7.3, 2.9, 6.3, 1.8],\n",
              "       [6.7, 2.5, 5.8, 1.8],\n",
              "       [7.2, 3.6, 6.1, 2.5],\n",
              "       [6.5, 3.2, 5.1, 2. ],\n",
              "       [6.4, 2.7, 5.3, 1.9],\n",
              "       [6.8, 3. , 5.5, 2.1],\n",
              "       [5.7, 2.5, 5. , 2. ],\n",
              "       [5.8, 2.8, 5.1, 2.4],\n",
              "       [6.4, 3.2, 5.3, 2.3],\n",
              "       [6.5, 3. , 5.5, 1.8],\n",
              "       [7.7, 3.8, 6.7, 2.2],\n",
              "       [7.7, 2.6, 6.9, 2.3],\n",
              "       [6. , 2.2, 5. , 1.5],\n",
              "       [6.9, 3.2, 5.7, 2.3],\n",
              "       [5.6, 2.8, 4.9, 2. ],\n",
              "       [7.7, 2.8, 6.7, 2. ],\n",
              "       [6.3, 2.7, 4.9, 1.8],\n",
              "       [6.7, 3.3, 5.7, 2.1],\n",
              "       [7.2, 3.2, 6. , 1.8],\n",
              "       [6.2, 2.8, 4.8, 1.8],\n",
              "       [6.1, 3. , 4.9, 1.8],\n",
              "       [6.4, 2.8, 5.6, 2.1],\n",
              "       [7.2, 3. , 5.8, 1.6],\n",
              "       [7.4, 2.8, 6.1, 1.9],\n",
              "       [7.9, 3.8, 6.4, 2. ],\n",
              "       [6.4, 2.8, 5.6, 2.2],\n",
              "       [6.3, 2.8, 5.1, 1.5],\n",
              "       [6.1, 2.6, 5.6, 1.4],\n",
              "       [7.7, 3. , 6.1, 2.3],\n",
              "       [6.3, 3.4, 5.6, 2.4],\n",
              "       [6.4, 3.1, 5.5, 1.8],\n",
              "       [6. , 3. , 4.8, 1.8],\n",
              "       [6.9, 3.1, 5.4, 2.1],\n",
              "       [6.7, 3.1, 5.6, 2.4],\n",
              "       [6.9, 3.1, 5.1, 2.3],\n",
              "       [5.8, 2.7, 5.1, 1.9],\n",
              "       [6.8, 3.2, 5.9, 2.3],\n",
              "       [6.7, 3.3, 5.7, 2.5],\n",
              "       [6.7, 3. , 5.2, 2.3],\n",
              "       [6.3, 2.5, 5. , 1.9],\n",
              "       [6.5, 3. , 5.2, 2. ],\n",
              "       [6.2, 3.4, 5.4, 2.3],\n",
              "       [5.9, 3. , 5.1, 1.8]])"
            ]
          },
          "metadata": {},
          "execution_count": 98
        }
      ]
    },
    {
      "cell_type": "code",
      "source": [
        "type(x)"
      ],
      "metadata": {
        "colab": {
          "base_uri": "https://localhost:8080/"
        },
        "id": "N6nlp3O2jYS3",
        "outputId": "cb4f2bf6-8a6c-4736-e15a-7901afda5930"
      },
      "execution_count": null,
      "outputs": [
        {
          "output_type": "execute_result",
          "data": {
            "text/plain": [
              "numpy.ndarray"
            ]
          },
          "metadata": {},
          "execution_count": 99
        }
      ]
    },
    {
      "cell_type": "code",
      "source": [
        "from sklearn.model_selection import train_test_split\n",
        "x_train, x_test, y_train, y_test = train_test_split(x, y, test_size = 0.2, random_state=32)\n"
      ],
      "metadata": {
        "id": "WXOyDKitknDM"
      },
      "execution_count": null,
      "outputs": []
    },
    {
      "cell_type": "code",
      "source": [
        "# Convert X-inputs to float tensors\n",
        "# x_train = torch.tensor(x_train, dtype=torch.double)\n",
        "x_train = torch.FloatTensor(x_train)\n",
        "x_test =torch.FloatTensor(x_test)\n",
        "\n",
        "#convert y-label to long tensors\n",
        "# y_train = torch.tensor(y_train, dtype=torch.double)\n",
        "y_train = torch.LongTensor(y_train)\n",
        "y_test =torch.LongTensor(y_test)"
      ],
      "metadata": {
        "id": "Yn60ks5rlqfR"
      },
      "execution_count": null,
      "outputs": []
    },
    {
      "cell_type": "markdown",
      "source": [
        "### Criterion  and Optimizer"
      ],
      "metadata": {
        "id": "1uisYqB5o3q8"
      }
    },
    {
      "cell_type": "code",
      "source": [
        "# Set the criterion of model to measure the error,\n",
        "# how far off the prediction are from the data\n",
        "\n",
        "criterion = nn.CrossEntropyLoss()\n",
        "\n",
        "# Choose an Optimizer (Adam), learning rate\n",
        "# (if error doesn't go down after a bunch of iterations (epoch), lower our learning rate)\n",
        "optimizer = torch.optim.Adam(model.parameters(), lr =0.01) #the lower the lr the more the time to train"
      ],
      "metadata": {
        "id": "D3O9ImarmDP0"
      },
      "execution_count": null,
      "outputs": []
    },
    {
      "cell_type": "code",
      "source": [
        "model"
      ],
      "metadata": {
        "colab": {
          "base_uri": "https://localhost:8080/"
        },
        "id": "GyJRxJSVuJl5",
        "outputId": "ea82a863-cc8c-4177-89bb-81863a31350e"
      },
      "execution_count": null,
      "outputs": [
        {
          "output_type": "execute_result",
          "data": {
            "text/plain": [
              "Model(\n",
              "  (fc1): Linear(in_features=4, out_features=8, bias=True)\n",
              "  (fc2): Linear(in_features=8, out_features=9, bias=True)\n",
              "  (out): Linear(in_features=9, out_features=3, bias=True)\n",
              ")"
            ]
          },
          "metadata": {},
          "execution_count": 103
        }
      ]
    },
    {
      "cell_type": "code",
      "source": [
        "# Train the model\n",
        "#Epoch? (if 1, it implies the number of time the model is trained is once)\n",
        "\n",
        "epoch =100\n",
        "losses = []   #this list is to store the losses in each epoch\n",
        "\n",
        "for i in range(epoch):\n",
        "  # Go forward and get prediction\n",
        "  y_pred = model.forward(x_train) #get predicted result\n",
        "\n",
        "  #Measure the loss/error, it will be high at first- How far predictions from data\n",
        "  loss = criterion(y_pred, y_train) #predicted values vs the y_train\n",
        "\n",
        "  #Keep track of our losses\n",
        "  losses.append(loss.detach().numpy())\n",
        "\n",
        "  #print every 10 epoch\n",
        "  if i % 10 == 0:\n",
        "    print(f'Epoch: {i} and loss: {loss}')\n",
        "\n",
        "  #Do some back propagation: take the error rate of forward propagation and feed it back\n",
        "  #through the network to fine tune the weight\n",
        "  optimizer.zero_grad() # reset grads\n",
        "  loss.backward()\n",
        "  optimizer.step() # update weights\n"
      ],
      "metadata": {
        "colab": {
          "base_uri": "https://localhost:8080/"
        },
        "id": "H7PkrCVXp_gE",
        "outputId": "b9591d46-0e6f-4f75-b0f9-88daeec6134a"
      },
      "execution_count": null,
      "outputs": [
        {
          "output_type": "stream",
          "name": "stdout",
          "text": [
            "Epoch: 0 and loss: 1.1699321269989014\n",
            "Epoch: 10 and loss: 0.9570867419242859\n",
            "Epoch: 20 and loss: 0.7980871796607971\n",
            "Epoch: 30 and loss: 0.6327950358390808\n",
            "Epoch: 40 and loss: 0.43861737847328186\n",
            "Epoch: 50 and loss: 0.290453165769577\n",
            "Epoch: 60 and loss: 0.17780695855617523\n",
            "Epoch: 70 and loss: 0.11584118008613586\n",
            "Epoch: 80 and loss: 0.0893637090921402\n",
            "Epoch: 90 and loss: 0.07752915471792221\n"
          ]
        }
      ]
    },
    {
      "cell_type": "code",
      "source": [
        "#Visualize the result\n",
        "plt.plot(range(epoch), losses)\n",
        "plt.ylabel('loss/error')\n",
        "plt.xlabel('Epoch')\n"
      ],
      "metadata": {
        "colab": {
          "base_uri": "https://localhost:8080/",
          "height": 466
        },
        "id": "ffrHGI7LsW9d",
        "outputId": "b097cd37-6046-4e20-b8dd-587eae341020"
      },
      "execution_count": null,
      "outputs": [
        {
          "output_type": "execute_result",
          "data": {
            "text/plain": [
              "Text(0.5, 0, 'Epoch')"
            ]
          },
          "metadata": {},
          "execution_count": 105
        },
        {
          "output_type": "display_data",
          "data": {
            "text/plain": [
              "<Figure size 640x480 with 1 Axes>"
            ],
            "image/png": "[encoded data removed]"
          },
          "metadata": {}
        }
      ]
    },
    {
      "cell_type": "markdown",
      "source": [
        "### Model Validation on Test Data"
      ],
      "metadata": {
        "id": "c9eqJB5L_H9H"
      }
    },
    {
      "cell_type": "code",
      "source": [
        "#Evaluate Model on Test Data set\n",
        "with torch.no_grad():   #This turns off back probagation\n",
        "  #Evaluate the data on the 20% of data\n",
        "  y_eval = model.forward(x_test) # X_test are features from our test set, y_eval will be\n",
        "  loss = criterion(y_eval, y_test) # Find the test loss or error"
      ],
      "metadata": {
        "id": "W7zoQXfRv91Q"
      },
      "execution_count": null,
      "outputs": []
    },
    {
      "cell_type": "code",
      "source": [
        "loss   # the test loss is close to the train loss, we have a great model"
      ],
      "metadata": {
        "colab": {
          "base_uri": "https://localhost:8080/"
        },
        "id": "6l_o2f5aHp_w",
        "outputId": "6f223203-56fa-4b20-abdc-24ba7678bfc8"
      },
      "execution_count": null,
      "outputs": [
        {
          "output_type": "execute_result",
          "data": {
            "text/plain": [
              "tensor(0.0538)"
            ]
          },
          "metadata": {},
          "execution_count": 107
        }
      ]
    },
    {
      "cell_type": "markdown",
      "source": [
        "#### Track the individual test data"
      ],
      "metadata": {
        "id": "V8PFy04XbI8z"
      }
    },
    {
      "cell_type": "code",
      "source": [
        " y_sam = model.forward(x_test[0])\n",
        " y_sam.argmax()\n"
      ],
      "metadata": {
        "colab": {
          "base_uri": "https://localhost:8080/"
        },
        "id": "RRI0Xgi2bS4b",
        "outputId": "482e3bb5-37cb-47cc-e4ff-52df1c9a3e11"
      },
      "execution_count": null,
      "outputs": [
        {
          "output_type": "execute_result",
          "data": {
            "text/plain": [
              "tensor(1)"
            ]
          },
          "metadata": {},
          "execution_count": 108
        }
      ]
    },
    {
      "cell_type": "code",
      "source": [
        "#Let's track the total correct data\n",
        "\n",
        "correct = 0\n",
        "with torch.no_grad():    #turn off back propagation\n",
        "  for i, data in enumerate(x_test):\n",
        "    y_val = model.forward(data)   # pass test data through the model\n",
        "\n",
        "    #will tell us what type of flower class our network think it is\n",
        "    # argmax is a function that finds the index of the maximum value within an array or along a specified axis.\n",
        "    print(f'{i+1}.) {str(y_val)} \\t {y_test[i]} \\t {y_val.argmax().item()}')\n",
        "\n",
        "    # check number of correct labels\n",
        "    if y_val.argmax().item() == y_test[i]:\n",
        "      correct +=1\n",
        "print(f'We got {correct} correct!')"
      ],
      "metadata": {
        "colab": {
          "base_uri": "https://localhost:8080/"
        },
        "id": "J7qmQ5guHp8l",
        "outputId": "f7d1b0dd-960f-4446-f86c-4db90fd24246"
      },
      "execution_count": null,
      "outputs": [
        {
          "output_type": "stream",
          "name": "stdout",
          "text": [
            "1.) tensor([-3.3646,  3.9392,  0.3720]) \t 1 \t 1\n",
            "2.) tensor([  7.5572,   1.1015, -11.3347]) \t 0 \t 0\n",
            "3.) tensor([  6.5957,   1.5027, -10.4091]) \t 0 \t 0\n",
            "4.) tensor([-3.3331,  4.2594,  0.0623]) \t 1 \t 1\n",
            "5.) tensor([-7.3782,  2.8087,  5.1605]) \t 2 \t 2\n",
            "6.) tensor([-7.3760,  3.9013,  4.2826]) \t 2 \t 2\n",
            "7.) tensor([  6.1971,   1.6470, -10.0047]) \t 0 \t 0\n",
            "8.) tensor([  6.6383,   1.4348, -10.4031]) \t 0 \t 0\n",
            "9.) tensor([-2.6753,  4.3091, -0.6392]) \t 1 \t 1\n",
            "10.) tensor([  7.1875,   1.3812, -11.0965]) \t 0 \t 0\n",
            "11.) tensor([-3.8318,  4.4027,  0.5246]) \t 1 \t 1\n",
            "12.) tensor([-8.6807,  1.9994,  6.8923]) \t 2 \t 2\n",
            "13.) tensor([-2.0678,  3.8200, -0.7571]) \t 1 \t 1\n",
            "14.) tensor([-1.0768,  4.3741, -2.2838]) \t 1 \t 1\n",
            "15.) tensor([-7.4965,  2.6207,  5.3287]) \t 2 \t 2\n",
            "16.) tensor([-8.6136,  1.5508,  7.1186]) \t 2 \t 2\n",
            "17.) tensor([-3.7761,  3.6462,  0.9487]) \t 1 \t 1\n",
            "18.) tensor([-6.7608,  2.7754,  4.5281]) \t 2 \t 2\n",
            "19.) tensor([-1.7048,  4.1980, -1.4670]) \t 1 \t 1\n",
            "20.) tensor([  7.7757,   1.3740, -11.8864]) \t 0 \t 0\n",
            "21.) tensor([  6.8811,   1.5887, -10.8763]) \t 0 \t 0\n",
            "22.) tensor([-9.4350,  2.7012,  7.2406]) \t 2 \t 2\n",
            "23.) tensor([-5.7694,  3.0131,  3.3490]) \t 2 \t 2\n",
            "24.) tensor([  6.7561,   1.3467, -10.4799]) \t 0 \t 0\n",
            "25.) tensor([  6.7959,   1.0626, -10.2672]) \t 0 \t 0\n",
            "26.) tensor([-1.4388,  4.3212, -1.8930]) \t 1 \t 1\n",
            "27.) tensor([  7.8687,   1.2718, -11.9165]) \t 0 \t 0\n",
            "28.) tensor([-9.8075,  1.7086,  8.1659]) \t 2 \t 2\n",
            "29.) tensor([  7.3769,   1.3871, -11.3586]) \t 0 \t 0\n",
            "30.) tensor([  7.1775,   1.3937, -11.0947]) \t 0 \t 0\n",
            "We got 30 correct!\n"
          ]
        }
      ]
    },
    {
      "cell_type": "code",
      "source": [
        "# OR to print labels, do this:\n",
        "\n",
        "#Let's track the total correct data\n",
        "\n",
        "correct = 0\n",
        "with torch.no_grad():    #turn off back propagation\n",
        "  for i, data in enumerate(x_test):\n",
        "    y_val = model.forward(data)   # pass test data through the model\n",
        "\n",
        "    if y_test[i] == 0:\n",
        "      x= 'Setosa'\n",
        "    elif y_test[i] == 1:\n",
        "      x ='Versicolor'\n",
        "    else:\n",
        "      x = 'Virginica'\n",
        "\n",
        "    #will tell us what type of flower class our network think it is\n",
        "    # argmax is a function that finds the index of the maximum value within an array or along a specified axis.\n",
        "    print(f'{i+1}.) {str(y_val)} \\t {x} \\t {y_val.argmax().item()}')\n",
        "\n",
        "    # check number of correct labels\n",
        "    if y_val.argmax().item() == y_test[i]:\n",
        "      correct +=1\n",
        "print(f'We got {correct} correct!')"
      ],
      "metadata": {
        "colab": {
          "base_uri": "https://localhost:8080/"
        },
        "id": "VJCXCyeKHp5E",
        "outputId": "9213f7ef-c14a-4bc5-a62d-bda30c7401c3"
      },
      "execution_count": null,
      "outputs": [
        {
          "output_type": "stream",
          "name": "stdout",
          "text": [
            "1.) tensor([-3.3646,  3.9392,  0.3720]) \t Versicolor \t 1\n",
            "2.) tensor([  7.5572,   1.1015, -11.3347]) \t Setosa \t 0\n",
            "3.) tensor([  6.5957,   1.5027, -10.4091]) \t Setosa \t 0\n",
            "4.) tensor([-3.3331,  4.2594,  0.0623]) \t Versicolor \t 1\n",
            "5.) tensor([-7.3782,  2.8087,  5.1605]) \t Virginica \t 2\n",
            "6.) tensor([-7.3760,  3.9013,  4.2826]) \t Virginica \t 2\n",
            "7.) tensor([  6.1971,   1.6470, -10.0047]) \t Setosa \t 0\n",
            "8.) tensor([  6.6383,   1.4348, -10.4031]) \t Setosa \t 0\n",
            "9.) tensor([-2.6753,  4.3091, -0.6392]) \t Versicolor \t 1\n",
            "10.) tensor([  7.1875,   1.3812, -11.0965]) \t Setosa \t 0\n",
            "11.) tensor([-3.8318,  4.4027,  0.5246]) \t Versicolor \t 1\n",
            "12.) tensor([-8.6807,  1.9994,  6.8923]) \t Virginica \t 2\n",
            "13.) tensor([-2.0678,  3.8200, -0.7571]) \t Versicolor \t 1\n",
            "14.) tensor([-1.0768,  4.3741, -2.2838]) \t Versicolor \t 1\n",
            "15.) tensor([-7.4965,  2.6207,  5.3287]) \t Virginica \t 2\n",
            "16.) tensor([-8.6136,  1.5508,  7.1186]) \t Virginica \t 2\n",
            "17.) tensor([-3.7761,  3.6462,  0.9487]) \t Versicolor \t 1\n",
            "18.) tensor([-6.7608,  2.7754,  4.5281]) \t Virginica \t 2\n",
            "19.) tensor([-1.7048,  4.1980, -1.4670]) \t Versicolor \t 1\n",
            "20.) tensor([  7.7757,   1.3740, -11.8864]) \t Setosa \t 0\n",
            "21.) tensor([  6.8811,   1.5887, -10.8763]) \t Setosa \t 0\n",
            "22.) tensor([-9.4350,  2.7012,  7.2406]) \t Virginica \t 2\n",
            "23.) tensor([-5.7694,  3.0131,  3.3490]) \t Virginica \t 2\n",
            "24.) tensor([  6.7561,   1.3467, -10.4799]) \t Setosa \t 0\n",
            "25.) tensor([  6.7959,   1.0626, -10.2672]) \t Setosa \t 0\n",
            "26.) tensor([-1.4388,  4.3212, -1.8930]) \t Versicolor \t 1\n",
            "27.) tensor([  7.8687,   1.2718, -11.9165]) \t Setosa \t 0\n",
            "28.) tensor([-9.8075,  1.7086,  8.1659]) \t Virginica \t 2\n",
            "29.) tensor([  7.3769,   1.3871, -11.3586]) \t Setosa \t 0\n",
            "30.) tensor([  7.1775,   1.3937, -11.0947]) \t Setosa \t 0\n",
            "We got 30 correct!\n"
          ]
        }
      ]
    },
    {
      "cell_type": "markdown",
      "source": [
        "### Feed New Data into the Neural Network and Make Prediction"
      ],
      "metadata": {
        "id": "AgKD7sNuiy5T"
      }
    },
    {
      "cell_type": "code",
      "source": [
        "# Given that you have the Sepal and petal length and sepal and petal width\n",
        "# What is the specie of flower\n",
        "\n",
        "new_iris = torch.tensor([4.5, 3.2, 1.3, 0.7])\n",
        "new_iris"
      ],
      "metadata": {
        "colab": {
          "base_uri": "https://localhost:8080/"
        },
        "id": "PdAZOcfThgV5",
        "outputId": "57dcfe60-d11e-4f6b-c28c-d9270baf7011"
      },
      "execution_count": null,
      "outputs": [
        {
          "output_type": "execute_result",
          "data": {
            "text/plain": [
              "tensor([4.5000, 3.2000, 1.3000, 0.7000])"
            ]
          },
          "metadata": {},
          "execution_count": 112
        }
      ]
    },
    {
      "cell_type": "code",
      "source": [
        "with torch.no_grad():\n",
        "  print(model(new_iris))"
      ],
      "metadata": {
        "colab": {
          "base_uri": "https://localhost:8080/"
        },
        "id": "9KF3kU4mjZMb",
        "outputId": "cc4f683e-f87b-4fd7-ac17-59c1ea111f7f"
      },
      "execution_count": null,
      "outputs": [
        {
          "output_type": "stream",
          "name": "stdout",
          "text": [
            "tensor([ 5.7381,  1.3822, -9.1347])\n"
          ]
        }
      ]
    },
    {
      "cell_type": "code",
      "source": [
        "new_iris2 = torch.tensor([6.5, 2.2, 1.3, 4.7])\n",
        "new_iris2"
      ],
      "metadata": {
        "colab": {
          "base_uri": "https://localhost:8080/"
        },
        "id": "NYl0rfx5jlVM",
        "outputId": "cf48d403-6ea3-4a78-b82a-f70f82d14d61"
      },
      "execution_count": null,
      "outputs": [
        {
          "output_type": "execute_result",
          "data": {
            "text/plain": [
              "tensor([6.5000, 2.2000, 1.3000, 4.7000])"
            ]
          },
          "metadata": {},
          "execution_count": 114
        }
      ]
    },
    {
      "cell_type": "code",
      "source": [
        "with torch.no_grad():\n",
        "  print(model(new_iris))"
      ],
      "metadata": {
        "colab": {
          "base_uri": "https://localhost:8080/"
        },
        "id": "5gXvCQ0Dkvi1",
        "outputId": "cec4ef5e-bfd2-4f42-aafb-ff483de7db0f"
      },
      "execution_count": null,
      "outputs": [
        {
          "output_type": "stream",
          "name": "stdout",
          "text": [
            "tensor([ 5.7381,  1.3822, -9.1347])\n"
          ]
        }
      ]
    },
    {
      "cell_type": "markdown",
      "source": [
        "### Save and load our model"
      ],
      "metadata": {
        "id": "OcTl3R3vlAbB"
      }
    },
    {
      "cell_type": "code",
      "source": [
        "torch.save(model.state_dict(), 'my_iris_model.pt')"
      ],
      "metadata": {
        "id": "3fSdZ2_HkzYM"
      },
      "execution_count": null,
      "outputs": []
    },
    {
      "cell_type": "code",
      "source": [
        "#load the saved model\n",
        "new_model = Model()\n",
        "new_model.load_state_dict(torch.load('my_iris_model.pt'))"
      ],
      "metadata": {
        "colab": {
          "base_uri": "https://localhost:8080/"
        },
        "id": "3AQWU5G_ljv8",
        "outputId": "cd076fd0-5924-4f81-b705-3461186463b4"
      },
      "execution_count": null,
      "outputs": [
        {
          "output_type": "execute_result",
          "data": {
            "text/plain": [
              "<All keys matched successfully>"
            ]
          },
          "metadata": {},
          "execution_count": 118
        }
      ]
    },
    {
      "cell_type": "code",
      "source": [
        "# Check if it loaded correctly\n",
        "new_model.eval()"
      ],
      "metadata": {
        "colab": {
          "base_uri": "https://localhost:8080/"
        },
        "id": "ld0EjWn-l59W",
        "outputId": "81bb9e8a-6b6b-462a-a906-e100b34d3a1d"
      },
      "execution_count": null,
      "outputs": [
        {
          "output_type": "execute_result",
          "data": {
            "text/plain": [
              "Model(\n",
              "  (fc1): Linear(in_features=4, out_features=8, bias=True)\n",
              "  (fc2): Linear(in_features=8, out_features=9, bias=True)\n",
              "  (out): Linear(in_features=9, out_features=3, bias=True)\n",
              ")"
            ]
          },
          "metadata": {},
          "execution_count": 121
        }
      ]
    },
    {
      "cell_type": "code",
      "source": [],
      "metadata": {
        "id": "G9Locij7mA6V"
      },
      "execution_count": null,
      "outputs": []
    }
  ]
}